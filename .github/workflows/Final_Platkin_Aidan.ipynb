{
 "cells": [
  {
   "cell_type": "code",
   "execution_count": null,
   "id": "8dc67af2",
   "metadata": {},
   "outputs": [],
   "source": [
    "print(m)"
   ]
  },
  {
   "cell_type": "code",
   "execution_count": null,
   "id": "2275c079",
   "metadata": {},
   "outputs": [
    {
     "name": "stdout",
     "output_type": "stream",
     "text": [
      "Print File Name\n",
      "einstein.txt\n",
      "file opened\n",
      "Enter space-separated words: the\n",
      "{3, 4, 7}\n",
      "Enter space-separated words: stupidity and\n",
      "{7}\n"
     ]
    }
   ],
   "source": [
    "from collections import defaultdict\n",
    "\n",
    "def open_file():\n",
    "    while True:\n",
    "        filename=input('Print File Name\\n')\n",
    "        try:\n",
    "            myfile=open(filename)\n",
    "        except:\n",
    "            print(\"Could not open/read file:\")\n",
    "        else:\n",
    "            print(\"file opened\")\n",
    "            break\n",
    "    return myfile\n",
    "\n",
    "def split_line(line):\n",
    "    line = line.lower()\n",
    "    line = ''.join(ch for ch in line if ch.isalpha() or ch.isdigit() or ch == ' ')    \n",
    "    words = line.lower().split()\n",
    "    words = [word for word in words if len(word) >= 2]\n",
    "    return words\n",
    "\n",
    "def read_data(fp):\n",
    "    D = defaultdict(set)\n",
    "    lines=fp.readlines()\n",
    "    for line_num, line in enumerate(lines):\n",
    "        words = split_line(line)\n",
    "        for word in words:\n",
    "            D[word].add(line_num+1)\n",
    "    return D\n",
    "\n",
    "def findcoocurrence(D,inp_str):\n",
    "    inputs=inp_str.strip().split(' ')\n",
    "    inputs1 = []\n",
    "    for word in inputs:\n",
    "            if word.lower() in D:\n",
    "                    inputs1.append(D[word.lower()])\n",
    "    if len(inputs1)>0:\n",
    "       return set.intersection(*inputs1)\n",
    "    else:\n",
    "       return None\n",
    "\n",
    "def main():\n",
    "    fp=open_file()\n",
    "    D = read_data(fp)\n",
    "    while True:\n",
    "       inp_str = input(\"Enter space-separated words: \")\n",
    "       if inp_str.lower() == 'q':\n",
    "            break\n",
    "       print(findcoocurrence(D, inp_str))\n",
    "    \n",
    "if __name__ == '__main__':\n",
    "    main()"
   ]
  },
  {
   "cell_type": "code",
   "execution_count": null,
   "id": "02918600",
   "metadata": {},
   "outputs": [],
   "source": []
  },
  {
   "cell_type": "code",
   "execution_count": null,
   "id": "e94c1931",
   "metadata": {},
   "outputs": [],
   "source": []
  }
 ],
 "metadata": {
  "kernelspec": {
   "display_name": "Python 3 (ipykernel)",
   "language": "python",
   "name": "python3"
  },
  "language_info": {
   "codemirror_mode": {
    "name": "ipython",
    "version": 3
   },
   "file_extension": ".py",
   "mimetype": "text/x-python",
   "name": "python",
   "nbconvert_exporter": "python",
   "pygments_lexer": "ipython3",
   "version": "3.9.7"
  }
 },
 "nbformat": 4,
 "nbformat_minor": 5
}
