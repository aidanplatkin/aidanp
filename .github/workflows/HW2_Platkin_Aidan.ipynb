{
 "cells": [
  {
   "cell_type": "code",
   "execution_count": 1,
   "id": "96293199",
   "metadata": {},
   "outputs": [
    {
     "name": "stdout",
     "output_type": "stream",
     "text": [
      "0\n",
      "1\n",
      "2\n",
      "3\n",
      "4\n"
     ]
    }
   ],
   "source": [
    "n=0\n",
    "while n<10:\n",
    "    print(n)\n",
    "    n+=1\n",
    "    if n==5:\n",
    "        break"
   ]
  },
  {
   "cell_type": "code",
   "execution_count": 2,
   "id": "9849a764",
   "metadata": {},
   "outputs": [
    {
     "name": "stdout",
     "output_type": "stream",
     "text": [
      "0\n",
      "1\n",
      "2\n",
      "3\n",
      "4\n",
      "5 is not less than 5\n"
     ]
    }
   ],
   "source": [
    "n=0\n",
    "while n<5:\n",
    "    print(n)\n",
    "    n+=1\n",
    "else:\n",
    "    print(n, \"is not less than 5\")"
   ]
  },
  {
   "cell_type": "code",
   "execution_count": 3,
   "id": "cd63f4ef",
   "metadata": {},
   "outputs": [],
   "source": [
    "fruitList = {\"Strawberry\",\n",
    "             \"Pineapple\",\n",
    "             \"Mango\",\n",
    "             \"Orange\",\n",
    "             \"Grape\",\n",
    "             \"Apple\",\n",
    "             \"Blueberry\"}\n",
    "Bad = \"Apple\""
   ]
  },
  {
   "cell_type": "code",
   "execution_count": 4,
   "id": "551bf7ea",
   "metadata": {},
   "outputs": [
    {
     "name": "stdout",
     "output_type": "stream",
     "text": [
      "I like Pineapple\n",
      "I like Strawberry\n",
      "I like Orange\n",
      "I like Mango\n",
      "I like Grape\n",
      "Apple is really a fruit?\n"
     ]
    }
   ],
   "source": [
    "for fruit in fruitList:\n",
    "    if fruit != Bad:\n",
    "        print (\"I like\", fruit)\n",
    "    if fruit == Bad:\n",
    "        print(Bad, \"is really a fruit?\")\n",
    "        break"
   ]
  },
  {
   "cell_type": "code",
   "execution_count": 6,
   "id": "09a64f6d",
   "metadata": {},
   "outputs": [
    {
     "name": "stdout",
     "output_type": "stream",
     "text": [
      "A\n"
     ]
    }
   ],
   "source": [
    "grade = 91\n",
    "if grade in range(90, 100):\n",
    "    print(\"A\")"
   ]
  },
  {
   "cell_type": "code",
   "execution_count": 22,
   "id": "d7714306",
   "metadata": {},
   "outputs": [
    {
     "name": "stdout",
     "output_type": "stream",
     "text": [
      "F\n"
     ]
    }
   ],
   "source": [
    "grade = 55\n",
    "if grade >= 90:\n",
    "    print(\"A\")\n",
    "else:\n",
    "    if grade in range(80, 89):\n",
    "        print(\"B\")\n",
    "    else:\n",
    "        if grade in range(70, 79):\n",
    "            print(\"C\")\n",
    "        else:\n",
    "            if grade in range(60, 69):\n",
    "                print(\"D\")\n",
    "            else:\n",
    "                if grade <= 60:\n",
    "                    print(\"F\")\n"
   ]
  },
  {
   "cell_type": "code",
   "execution_count": 27,
   "id": "87f14f90",
   "metadata": {},
   "outputs": [],
   "source": [
    "students = {\"Andy\":88,\n",
    "           \"Amy\":66,\n",
    "           \"James\": 90,\n",
    "           \"Jules\": 55,\n",
    "           \"Arthur\": 77}"
   ]
  },
  {
   "cell_type": "code",
   "execution_count": 39,
   "id": "4fc7af53",
   "metadata": {},
   "outputs": [
    {
     "name": "stdout",
     "output_type": "stream",
     "text": [
      "Andy B\n",
      "Amy D\n",
      "James A\n",
      "Jules F\n",
      "Arthur C\n"
     ]
    }
   ],
   "source": [
    "for k in students:\n",
    "    if students[k] >= 90:\n",
    "        print(k, \"A\")\n",
    "    else:\n",
    "        if students[k] in range(80, 89):\n",
    "            print(k, \"B\")\n",
    "        else:\n",
    "            if students[k] in range(70, 79):\n",
    "                print(k, \"C\")\n",
    "            else:\n",
    "                if students[k] in range(60, 69):\n",
    "                    print(k, \"D\")\n",
    "                else:\n",
    "                    if students[k] <= 60:\n",
    "                        print(k, \"F\")"
   ]
  },
  {
   "cell_type": "code",
   "execution_count": 41,
   "id": "b8245dcf",
   "metadata": {},
   "outputs": [],
   "source": [
    "import statistics"
   ]
  },
  {
   "cell_type": "code",
   "execution_count": 58,
   "id": "8addeb7c",
   "metadata": {},
   "outputs": [
    {
     "name": "stdout",
     "output_type": "stream",
     "text": [
      "75.2\n"
     ]
    }
   ],
   "source": [
    "meangrade=sum(students.values())/len(students.values())\n",
    "print(meangrade)"
   ]
  },
  {
   "cell_type": "code",
   "execution_count": 61,
   "id": "4f2e2f9f",
   "metadata": {},
   "outputs": [
    {
     "data": {
      "text/plain": [
       "90"
      ]
     },
     "execution_count": 61,
     "metadata": {},
     "output_type": "execute_result"
    }
   ],
   "source": [
    "max(students.values())"
   ]
  },
  {
   "cell_type": "code",
   "execution_count": 62,
   "id": "8f5f2d0a",
   "metadata": {},
   "outputs": [
    {
     "data": {
      "text/plain": [
       "55"
      ]
     },
     "execution_count": 62,
     "metadata": {},
     "output_type": "execute_result"
    }
   ],
   "source": [
    "min(students.values())"
   ]
  },
  {
   "cell_type": "code",
   "execution_count": 64,
   "id": "f6dcef95",
   "metadata": {},
   "outputs": [
    {
     "name": "stdout",
     "output_type": "stream",
     "text": [
      "Andy\n",
      "Amy\n"
     ]
    }
   ],
   "source": [
    "for k in students:\n",
    "    if'J' in k:\n",
    "        break\n",
    "    print(k)\n",
    "    "
   ]
  },
  {
   "cell_type": "code",
   "execution_count": 65,
   "id": "65edc13f",
   "metadata": {},
   "outputs": [
    {
     "name": "stdout",
     "output_type": "stream",
     "text": [
      "Andy\n",
      "Amy\n",
      "Arthur\n"
     ]
    }
   ],
   "source": [
    "for k in students:\n",
    "    if'J' in k:\n",
    "        continue\n",
    "    print(k)"
   ]
  },
  {
   "cell_type": "code",
   "execution_count": null,
   "id": "ff70aac8",
   "metadata": {},
   "outputs": [],
   "source": []
  },
  {
   "cell_type": "code",
   "execution_count": null,
   "id": "5223a983",
   "metadata": {},
   "outputs": [],
   "source": []
  }
 ],
 "metadata": {
  "kernelspec": {
   "display_name": "Python 3 (ipykernel)",
   "language": "python",
   "name": "python3"
  },
  "language_info": {
   "codemirror_mode": {
    "name": "ipython",
    "version": 3
   },
   "file_extension": ".py",
   "mimetype": "text/x-python",
   "name": "python",
   "nbconvert_exporter": "python",
   "pygments_lexer": "ipython3",
   "version": "3.9.7"
  }
 },
 "nbformat": 4,
 "nbformat_minor": 5
}
