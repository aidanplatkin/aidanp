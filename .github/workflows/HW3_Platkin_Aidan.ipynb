{
 "cells": [
  {
   "cell_type": "code",
   "execution_count": 1,
   "id": "77e0cfa3",
   "metadata": {},
   "outputs": [],
   "source": [
    "#Q1\n",
    "students = {\"Andy\":88,\n",
    "           \"Amy\":66,\n",
    "           \"James\": 90,\n",
    "           \"Jules\": 55,\n",
    "           \"Arthur\": 77}"
   ]
  },
  {
   "cell_type": "code",
   "execution_count": 119,
   "id": "49e111f6",
   "metadata": {},
   "outputs": [
    {
     "name": "stdout",
     "output_type": "stream",
     "text": [
      "88\n",
      "cannot find this students name\n"
     ]
    }
   ],
   "source": [
    "#Q1 part 2\n",
    "def check_name(name):\n",
    "    if name in students:\n",
    "        print(students[name])\n",
    "    else:\n",
    "        print(\"cannot find this students name\")\n",
    "        \n",
    "check_name(\"Andy\")\n",
    "check_name(\"Joey\")"
   ]
  },
  {
   "cell_type": "code",
   "execution_count": 118,
   "id": "ecf3e53c",
   "metadata": {},
   "outputs": [
    {
     "name": "stdout",
     "output_type": "stream",
     "text": [
      "75.2\n"
     ]
    }
   ],
   "source": [
    "#Q1.5\n",
    "def average(total):\n",
    "        print(total)\n",
    "        \n",
    "average(total/ number)"
   ]
  },
  {
   "cell_type": "code",
   "execution_count": 399,
   "id": "dd35e7cc",
   "metadata": {},
   "outputs": [
    {
     "name": "stdout",
     "output_type": "stream",
     "text": [
      "greater than 8\n"
     ]
    },
    {
     "data": {
      "text/plain": [
       "(7, 49)"
      ]
     },
     "execution_count": 399,
     "metadata": {},
     "output_type": "execute_result"
    }
   ],
   "source": [
    "#Q2\n",
    "def function(num, n):\n",
    "    while n<num:\n",
    "        return(n, n**2)\n",
    "    else:\n",
    "        print(\"greater than\", num)\n",
    "        \n",
    "function(8, 9)\n",
    "function(8, 7)"
   ]
  },
  {
   "cell_type": "code",
   "execution_count": 385,
   "id": "01314778",
   "metadata": {},
   "outputs": [
    {
     "data": {
      "text/plain": [
       "105"
      ]
     },
     "execution_count": 385,
     "metadata": {},
     "output_type": "execute_result"
    }
   ],
   "source": [
    "#Q3\n",
    "def total(num):\n",
    "    sum=0\n",
    "    for n in range(num):\n",
    "        sum=sum+n\n",
    "    print(sum)\n",
    "\n",
    "total(15)"
   ]
  },
  {
   "cell_type": "code",
   "execution_count": 146,
   "id": "93ede47d",
   "metadata": {},
   "outputs": [
    {
     "name": "stdout",
     "output_type": "stream",
     "text": [
      "1\n",
      "3\n",
      "6\n",
      "10\n",
      "15\n",
      "21\n",
      "28\n",
      "36\n"
     ]
    }
   ],
   "source": [
    "#Q4\n",
    "def integers(num, sum, i):\n",
    "    while i <= num:\n",
    "        print(sum+i)\n",
    "        sum = sum +i\n",
    "        i=i+1\n",
    "integers(8, 0, 1)"
   ]
  },
  {
   "cell_type": "code",
   "execution_count": 375,
   "id": "f3e14614",
   "metadata": {},
   "outputs": [],
   "source": [
    "from statistics import stdev"
   ]
  },
  {
   "cell_type": "code",
   "execution_count": 376,
   "id": "d72b4e53",
   "metadata": {},
   "outputs": [
    {
     "data": {
      "text/plain": [
       "('average', 50.0, 'sum', 4950, 'stdev', 28.722813232690143)"
      ]
     },
     "execution_count": 376,
     "metadata": {},
     "output_type": "execute_result"
    }
   ],
   "source": [
    "#Q5\n",
    "def average(mean):\n",
    "    return (\"average\", sum(mean) / len(mean), \"sum\", sum(mean), \"stdev\", stdev(mean))\n",
    "    return sum(backs)\n",
    "total =[range(1,100)]\n",
    "average(*total)\n"
   ]
  },
  {
   "cell_type": "code",
   "execution_count": 393,
   "id": "ff9130d3",
   "metadata": {},
   "outputs": [
    {
     "data": {
      "text/plain": [
       "9"
      ]
     },
     "execution_count": 393,
     "metadata": {},
     "output_type": "execute_result"
    }
   ],
   "source": [
    "#Q6\n",
    "def minimal(v1,v2,v3,v4):\n",
    "\n",
    "    min_value = v1\n",
    "    if v2 < min_value:\n",
    "        min_value=v2\n",
    "    if v3< min_value:\n",
    "        min_value=v3\n",
    "    if v4<min_value:\n",
    "        min_value=v4\n",
    "    return(min_value)\n",
    "\n",
    "\n",
    "minimal(23, 33, 12, 9)\n"
   ]
  },
  {
   "cell_type": "code",
   "execution_count": 398,
   "id": "20cf5cb3",
   "metadata": {},
   "outputs": [
    {
     "name": "stdout",
     "output_type": "stream",
     "text": [
      "9\n"
     ]
    }
   ],
   "source": [
    "# Q6.5 i am confused as to the instructions for this question. Was I just supposed to rename and print rather than return?\n",
    "def youngest(v1,v2,v3,v4):\n",
    "\n",
    "    min_value = v1\n",
    "    if v2 < min_value:\n",
    "        min_value=v2\n",
    "    if v3< min_value:\n",
    "        min_value=v3\n",
    "    if v4<min_value:\n",
    "        min_value=v4\n",
    "    print(min_value)\n",
    "\n",
    "\n",
    "youngest(23, 33, 12, 9)"
   ]
  },
  {
   "cell_type": "code",
   "execution_count": null,
   "id": "88e7a962",
   "metadata": {},
   "outputs": [],
   "source": []
  }
 ],
 "metadata": {
  "kernelspec": {
   "display_name": "Python 3 (ipykernel)",
   "language": "python",
   "name": "python3"
  },
  "language_info": {
   "codemirror_mode": {
    "name": "ipython",
    "version": 3
   },
   "file_extension": ".py",
   "mimetype": "text/x-python",
   "name": "python",
   "nbconvert_exporter": "python",
   "pygments_lexer": "ipython3",
   "version": "3.9.7"
  }
 },
 "nbformat": 4,
 "nbformat_minor": 5
}
