{
 "cells": [
  {
   "cell_type": "code",
   "execution_count": 1,
   "id": "83131f03",
   "metadata": {},
   "outputs": [],
   "source": [
    "sequence=list(range(30,61,5))"
   ]
  },
  {
   "cell_type": "code",
   "execution_count": 2,
   "id": "fb69ef40",
   "metadata": {},
   "outputs": [
    {
     "name": "stdout",
     "output_type": "stream",
     "text": [
      "[30, 35, 40, 45, 50, 55, 60]\n"
     ]
    }
   ],
   "source": [
    "print(sequence)"
   ]
  },
  {
   "cell_type": "code",
   "execution_count": 3,
   "id": "398e7cb5",
   "metadata": {},
   "outputs": [
    {
     "name": "stdout",
     "output_type": "stream",
     "text": [
      "[60, 55, 50, 45, 40, 35, 30]\n"
     ]
    }
   ],
   "source": [
    "print(sequence[::-1])"
   ]
  },
  {
   "cell_type": "code",
   "execution_count": 9,
   "id": "aa159dad",
   "metadata": {},
   "outputs": [],
   "source": [
    "sequenceupdate=sequence"
   ]
  },
  {
   "cell_type": "code",
   "execution_count": 10,
   "id": "56ba8bd4",
   "metadata": {},
   "outputs": [],
   "source": [
    "sequenceupdate.append(65)"
   ]
  },
  {
   "cell_type": "code",
   "execution_count": 11,
   "id": "510c1561",
   "metadata": {},
   "outputs": [
    {
     "name": "stdout",
     "output_type": "stream",
     "text": [
      "[65, 60, 55, 50, 45, 40, 35, 30]\n"
     ]
    }
   ],
   "source": [
    "print(sequenceupdate[::-1])"
   ]
  },
  {
   "cell_type": "code",
   "execution_count": 41,
   "id": "6066e4fc",
   "metadata": {},
   "outputs": [],
   "source": [
    "nums=list(range(0))"
   ]
  },
  {
   "cell_type": "code",
   "execution_count": 42,
   "id": "e74f5967",
   "metadata": {
    "scrolled": false
   },
   "outputs": [
    {
     "name": "stdout",
     "output_type": "stream",
     "text": [
      "[]\n"
     ]
    }
   ],
   "source": [
    "print(nums)"
   ]
  },
  {
   "cell_type": "code",
   "execution_count": 43,
   "id": "10a1fccf",
   "metadata": {
    "scrolled": true
   },
   "outputs": [],
   "source": [
    "nums.extend(range(21))"
   ]
  },
  {
   "cell_type": "code",
   "execution_count": 44,
   "id": "b7fdc4b0",
   "metadata": {},
   "outputs": [
    {
     "name": "stdout",
     "output_type": "stream",
     "text": [
      "[0, 1, 2, 3, 4, 5, 6, 7, 8, 9, 10, 11, 12, 13, 14, 15, 16, 17, 18, 19, 20]\n"
     ]
    }
   ],
   "source": [
    "print(nums)"
   ]
  },
  {
   "cell_type": "code",
   "execution_count": 45,
   "id": "e1324322",
   "metadata": {},
   "outputs": [],
   "source": [
    "nums.remove(0)"
   ]
  },
  {
   "cell_type": "code",
   "execution_count": 46,
   "id": "74533c90",
   "metadata": {},
   "outputs": [
    {
     "name": "stdout",
     "output_type": "stream",
     "text": [
      "[1, 2, 3, 4, 5, 6, 7, 8, 9, 10, 11, 12, 13, 14, 15, 16, 17, 18, 19, 20]\n"
     ]
    }
   ],
   "source": [
    "print(nums)"
   ]
  },
  {
   "cell_type": "code",
   "execution_count": 47,
   "id": "8bd9778e",
   "metadata": {},
   "outputs": [
    {
     "name": "stdout",
     "output_type": "stream",
     "text": [
      "20\n"
     ]
    }
   ],
   "source": [
    "print(len(nums))"
   ]
  },
  {
   "cell_type": "code",
   "execution_count": 48,
   "id": "8e49c9b3",
   "metadata": {},
   "outputs": [
    {
     "name": "stdout",
     "output_type": "stream",
     "text": [
      "20\n"
     ]
    }
   ],
   "source": [
    "print(max(nums))"
   ]
  },
  {
   "cell_type": "code",
   "execution_count": 49,
   "id": "2307822e",
   "metadata": {},
   "outputs": [
    {
     "name": "stdout",
     "output_type": "stream",
     "text": [
      "1\n"
     ]
    }
   ],
   "source": [
    "print(min(nums))"
   ]
  },
  {
   "cell_type": "code",
   "execution_count": 50,
   "id": "81dfad7b",
   "metadata": {},
   "outputs": [
    {
     "name": "stdout",
     "output_type": "stream",
     "text": [
      "210\n"
     ]
    }
   ],
   "source": [
    "print(sum(nums))"
   ]
  },
  {
   "cell_type": "code",
   "execution_count": 6,
   "id": "eb998303",
   "metadata": {},
   "outputs": [],
   "source": [
    "weatherList = {\"Sunny\": \"play\",\n",
    "           \"Rainy\": \"watch TV\",\n",
    "           \"Cloudy\":\"walk\"}"
   ]
  },
  {
   "cell_type": "code",
   "execution_count": 12,
   "id": "76e45014",
   "metadata": {},
   "outputs": [
    {
     "name": "stdout",
     "output_type": "stream",
     "text": [
      "When Sunny let us play\n",
      "When Rainy let us watch TV\n",
      "When Cloudy let us walk\n"
     ]
    }
   ],
   "source": [
    "for key in weatherList:\n",
    "    print(\"When\", key, \"let us\", weatherList[key])"
   ]
  },
  {
   "cell_type": "code",
   "execution_count": 13,
   "id": "03a746bc",
   "metadata": {},
   "outputs": [
    {
     "name": "stdout",
     "output_type": "stream",
     "text": [
      "{'Sunny': 'play', 'Rainy': 'watch TV', 'Cloudy': 'walk'}\n"
     ]
    }
   ],
   "source": [
    "print(weatherList)"
   ]
  },
  {
   "cell_type": "code",
   "execution_count": 16,
   "id": "2376cce7",
   "metadata": {},
   "outputs": [],
   "source": [
    "weatherList.update({\"Snowy\": \"ski\"})"
   ]
  },
  {
   "cell_type": "code",
   "execution_count": 17,
   "id": "3734cf93",
   "metadata": {},
   "outputs": [
    {
     "name": "stdout",
     "output_type": "stream",
     "text": [
      "{'Sunny': 'play', 'Rainy': 'watch TV', 'Cloudy': 'walk', 'Snowy': 'ski'}\n"
     ]
    }
   ],
   "source": [
    "print(weatherList)"
   ]
  },
  {
   "cell_type": "code",
   "execution_count": null,
   "id": "efe827ea",
   "metadata": {},
   "outputs": [],
   "source": []
  }
 ],
 "metadata": {
  "kernelspec": {
   "display_name": "Python 3 (ipykernel)",
   "language": "python",
   "name": "python3"
  },
  "language_info": {
   "codemirror_mode": {
    "name": "ipython",
    "version": 3
   },
   "file_extension": ".py",
   "mimetype": "text/x-python",
   "name": "python",
   "nbconvert_exporter": "python",
   "pygments_lexer": "ipython3",
   "version": "3.9.7"
  }
 },
 "nbformat": 4,
 "nbformat_minor": 5
}
